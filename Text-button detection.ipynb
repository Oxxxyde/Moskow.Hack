{
 "cells": [
  {
   "cell_type": "code",
   "execution_count": 1,
   "metadata": {},
   "outputs": [],
   "source": [
    "import os\n",
    "import cv2\n",
    "import numpy as np\n",
    "from PIL import Image\n",
    "import tensorflow as tf"
   ]
  },
  {
   "cell_type": "code",
   "execution_count": null,
   "metadata": {},
   "outputs": [
    {
     "name": "stdout",
     "output_type": "stream",
     "text": [
      "Requirement already satisfied: tifffile in c:\\programdata\\anaconda3\\lib\\site-packages (2019.7.26)\n",
      "Requirement already satisfied: imagecodecs>=2019.5.22; platform_system == \"Windows\" in c:\\programdata\\anaconda3\\lib\\site-packages (from tifffile) (2019.5.22)\n",
      "Requirement already satisfied: numpy>=1.11.3 in c:\\programdata\\anaconda3\\lib\\site-packages (from tifffile) (1.16.4)\n"
     ]
    }
   ],
   "source": [
    "!pip install tifffile\n",
    "!pip install libtiff"
   ]
  },
  {
   "cell_type": "code",
   "execution_count": null,
   "metadata": {},
   "outputs": [],
   "source": [
    "import tifffile as tiff"
   ]
  },
  {
   "cell_type": "code",
   "execution_count": null,
   "metadata": {},
   "outputs": [],
   "source": [
    "Text = []\n",
    "No_text_jpg = []\n",
    "No_text_gif = []\n",
    "for file in os.listdir('.../Text'):\n",
    "    if file.endswith(\".tif\"):\n",
    "        print(os.path.join(\".../Text/\", file))\n",
    "        Text.append(\"...Text/\"+file)"
   ]
  },
  {
   "cell_type": "code",
   "execution_count": null,
   "metadata": {},
   "outputs": [],
   "source": [
    "for file in os.listdir('.../Nontext'):\n",
    "    if file.endswith(\".jpg\"):\n",
    "        print(os.path.join(\".../Nontext/\", file))\n",
    "        No_text_jpg.append(\".../Nontext/\"+file)"
   ]
  },
  {
   "cell_type": "code",
   "execution_count": null,
   "metadata": {},
   "outputs": [],
   "source": [
    "No_text_gif.append('.../Nontext/harvest.gif')\n",
    "No_text_gif.append('.../Nontext/fig10.gif')\n",
    "No_text = No_text_gif + No_text_jpg\n",
    "class_names = ['Text','Not text']"
   ]
  },
  {
   "cell_type": "code",
   "execution_count": null,
   "metadata": {},
   "outputs": [],
   "source": [
    "def loadData(filename,isy):    \n",
    "    y = np.array([0,0,0,0,0,0])\n",
    "    x = np.zeros(562)\n",
    "    x = np.resize(1,562)\n",
    "    with open(filename, newline='\\n') as File:  \n",
    "        reader = csv.reader(File,delimiter = ' ')\n",
    "        for row in reader:\n",
    "            if (isy):\n",
    "                gd = [0,0,0,0,0,0]\n",
    "                gd[int (row[0]) - 1] = 1\n",
    "                y = np.vstack((y,np.array([gd])))\n",
    "            else:\n",
    "                x = np.vstack((x,np.array([row])))\n",
    "        if (isy == False):\n",
    "            x = np.delete(x,0,0)\n",
    "            x = np.delete(x,0,1)\n",
    "            return x.astype(float)\n",
    "        else:\n",
    "            y = np.delete(y,0,0)\n",
    "            return y.astype(float)\n",
    "x_train = Text[0:3]\n",
    "print(x_train)\n",
    "y_train = No_text[0:7]\n",
    "print(y_train)\n",
    "x_test = Text[4:8]\n",
    "print(x_test)\n",
    "y_test = No_text[8:21]\n",
    "print(y_test)\n",
    "for i in x_test:\n",
    "    loadData(i, True)"
   ]
  },
  {
   "cell_type": "code",
   "execution_count": null,
   "metadata": {},
   "outputs": [],
   "source": [
    "z = 0\n",
    "while z < size_train:\n",
    "  x_train[z] = np.array(x_train[z], dtype='float64')\n",
    "  z+=1"
   ]
  },
  {
   "cell_type": "code",
   "execution_count": null,
   "metadata": {},
   "outputs": [],
   "source": [
    "x = 0\n",
    "while x < size_test:\n",
    "  x_test[x] = np.array(x_test[x], dtype='float64')\n",
    "  x+=1\n",
    "\n",
    "input_shape = (img_rows, img_cols, 1)"
   ]
  },
  {
   "cell_type": "code",
   "execution_count": null,
   "metadata": {},
   "outputs": [],
   "source": [
    "z = 0\n",
    "x = 0\n",
    "while z < len(x_train):\n",
    "  x_train[z] = x_train[z] / 255.0\n",
    "  z+=1\n",
    "\n",
    "while x < len(x_test):\n",
    "  x_test[x] = x_test[x] / 255.0\n",
    "  x+=1"
   ]
  },
  {
   "cell_type": "code",
   "execution_count": null,
   "metadata": {},
   "outputs": [],
   "source": [
    "from keras.applications.inception_v3 import InceptionV3\n",
    "from keras.preprocessing import image\n",
    "from keras.models import Model\n",
    "from keras.layers import Dense, GlobalAveragePooling2D\n",
    "from keras import backend as K\n",
    "\n",
    "datagen = ImageDataGenerator(rescale=1./255)\n",
    "    \n",
    "train_generator_text = datagen.flow_from_directory('.../Text/',\n",
    "                                        target_size=(280,280,\n",
    "                                        32,\n",
    "                                        class_mode=None,\n",
    "                                        shuffle=False)\n",
    "\n",
    "train_generator_notext = datagen.flow_from_directory('.../Nontext/',\n",
    "                                        target_size=(280,280,\n",
    "                                        batch_size=32,\n",
    "                                        class_mode=None,\n",
    "                                        shuffle=False)\n",
    "\n",
    "validation_generator_text = datagen.flow_from_directory('.../Text/',\n",
    "                                                               target_size=(280, 280,\n",
    "                                                               batch_size=32,\n",
    "                                                               class_mode=None,\n",
    "                                                               shuffle=False)\n",
    "\n",
    "\n",
    "validation_generator_notext = datagen.flow_from_directory('.../Nontext/',\n",
    "                                                               target_size=(280, 280,\n",
    "                                                               batch_size=32,\n",
    "                                                               class_mode=None,\n",
    "                                                               shuffle=False)"
   ]
  },
  {
   "cell_type": "code",
   "execution_count": null,
   "metadata": {},
   "outputs": [],
   "source": [
    "model = tf.keras.models.Sequential([\n",
    "  tf.keras.layers.Flatten(input_shape=(28, 28)),\n",
    "  tf.keras.layers.Dense(512, activation=tf.nn.relu),\n",
    "  tf.keras.layers.Dropout(0.2),\n",
    "  tf.keras.layers.Dense(10, activation=tf.nn.softmax)\n",
    "])"
   ]
  },
  {
   "cell_type": "code",
   "execution_count": null,
   "metadata": {},
   "outputs": [],
   "source": [
    "model.compile(optimizer='adam',\n",
    "              loss='sparse_categorical_crossentropy',\n",
    "              metrics=['accuracy'])\n",
    "model.fit(x_train[0], epochs=5)\n",
    "model.evaluate(x_test[0], x_train[0])"
   ]
  }
 ],
 "metadata": {
  "kernelspec": {
   "display_name": "Python 3",
   "language": "python",
   "name": "python3"
  },
  "language_info": {
   "codemirror_mode": {
    "name": "ipython",
    "version": 3
   },
   "file_extension": ".py",
   "mimetype": "text/x-python",
   "name": "python",
   "nbconvert_exporter": "python",
   "pygments_lexer": "ipython3",
   "version": "3.7.3"
  }
 },
 "nbformat": 4,
 "nbformat_minor": 2
}
